{
 "cells": [
  {
   "cell_type": "markdown",
   "metadata": {},
   "source": [
    "# <center> <img src=\"figs/LogoUFSCar.jpg\" alt=\"Logo UFScar\" width=\"110\" align=\"left\"/>  <br/> <center>Universidade Federal de São Carlos (UFSCar)<br/><font size=\"4\"> Departamento de Computação, campus Sorocaba</center></font>\n",
    "</p>\n",
    "\n",
    "<br/>\n",
    "<font size=\"4\"><center><b>Disciplina: Aprendizado de Máquina</b></center></font>\n",
    "  \n",
    "<font size=\"3\"><center>Prof. Dr. Tiago A. Almeida</center></font>\n",
    "\n",
    "<br/>\n",
    "<center><i><b>\n",
    "Atenção: não são autorizadas cópias, divulgações ou qualquer tipo de uso deste material sem o consentimento prévio dos autores.\n",
    "</center></i></b>\n",
    "<br/>"
   ]
  },
  {
   "cell_type": "markdown",
   "metadata": {},
   "source": [
    "# <center>Exercício - Naive Bayes</center>\n",
    "\n",
    "Neste exercício, você implementará o método Naive Bayes e verá como ele utiliza os dados para fazer classificações de amostras não vistas. Antes de começar este exercício, é recomendável que você revise os conceitos apresentados em aula.\n",
    "\n",
    "### Descrição do problema\n",
    "Rodonildo é um jogador nato de *League of Legends*, um jogo de estratégia que envolve a batalha entre dois times (para maiores detalhes, consulte http://br.leagueoflegends.com/ ), e esteve coletando dados nas partidas em que jogou. O objetivo de Rodonildo é prever o vencedor de uma determinada batalha a partir de algumas informações. Na coleta de dados que Rodonildo fez, ele utilizou amostras compostas pelos 5 atributos binários (*1 = sim* e *0 = não*) a seguir:\n",
    "\n",
    "1. *primeiroAbate*: indica se a primeira morte do jogo foi realizada pelo time de Rodonildo;\n",
    "2. *primeiraTorre*: indica se a primeira torre destruída do jogo foi derrubada pelo time de Rodonildo (Figura 1a);\n",
    "3. *primeiroInibidor*: indica se o primeiro inibidor destruído do jogo foi derrubado pelo time de Rodonildo (Figura 1b);\n",
    "4. *primeiroDragao*: indica se o personagem Dragão foi abatido primeiro pelo time de Rodonildo (Figura 1c);\n",
    "4. *primeiroBaron*: indica se o personagem Baron foi abatido primeiro pelo time de Rodonildo (Figura 1d).\n",
    "\n",
    "<div style=\"display:inline-block;\">\n",
    "    <div>\n",
    "    <div style=\"padding: 5px; float: left;\">\n",
    "        <img src=\"figs/turret.png\" style=\"height:180px;\"/>\n",
    "        <center><em>(a) Torre</em></center>\n",
    "    </div>\n",
    "    <div style=\"padding: 5px; float: left;\">\n",
    "        <img src=\"figs/inhibitor.png\"  style=\"height:180px;\"/> \n",
    "        <center><em>(b) Inibidor</em></center>\n",
    "    </div>\n",
    "    <div style=\"padding: 5px; float: left;\">\n",
    "        <img src=\"figs/dragon.png\"  style=\"height:180px;\"/>\n",
    "        <center><em>(c) Dragão</em></center>\n",
    "    </div>\n",
    "    <div style=\"padding: 5px; float: left;\">\n",
    "        <img src=\"figs/baron.png\"  style=\"height:180px;\"/>\n",
    "        <center><em>(d) Baron</em></center>\n",
    "    </div>\n",
    "    </div>\n",
    "    <center><em>Figura 1. Objetos e Criaturas de League of Legends.</em></center>\n",
    "</div> \n",
    "\n",
    "Por exemplo, a amostra $x = [0, 0, 1, 1, 0]$ e $y = 0$  representa um jogo no qual o time de Rodonildo destruiu primeiro um inibidor inimigo e derrotou o dragão antes da equipe inimiga. Por sua vez, a equipe adversária fez o primeiro abate do jogo, destruiu a primeira torre e derrotou o Baron. Essa partida foi vencida pela equipe adversária.\n",
    "\n",
    "Após longo período de coleta de dados, Rodonildo precisa da sua ajuda para prever o resultado de outras partidas utilizando as informações armazenadas. A sua função é implementar o classificador Naive Bayes para predizer qual será o resultado das próximas partidas de Rodonildo, condicionado aos valores dos atributos.\n",
    "\n",
    "Instruções\n",
    "----------\n",
    "\n",
    "Este arquivo contém o código que auxiliará no desenvolvimento do exercício. Você precisará completar as seguintes funções:\n",
    "\n",
    "* calcularProbabilidades()\n",
    "* classificacao()\n",
    "* text2features()\n",
    "* calcularProbabilidades_Laplace()\n",
    "* classificacao_texto()\n",
    "\n",
    "Você não poderá criar nenhuma outra função. Apenas altere as rotinas fornecidas."
   ]
  },
  {
   "cell_type": "markdown",
   "metadata": {},
   "source": [
    "## Parte 1: Calcular as probabilidades\n",
    "\n",
    "Nesta etapa, você precisará implementar a função *calcularProbabilidades()*. Esta função retornará os vetores com as probabilidades de cada atributo para as classes."
   ]
  },
  {
   "cell_type": "markdown",
   "metadata": {},
   "source": [
    "Primeiro, vamos carregar a base de dados com as partidas jogadas pelo Rodonildo."
   ]
  },
  {
   "cell_type": "code",
   "execution_count": 1,
   "metadata": {},
   "outputs": [
    {
     "name": "stdout",
     "output_type": "stream",
     "text": [
      "Dados carregados com sucesso!\n"
     ]
    }
   ],
   "source": [
    "# -*- coding: utf-8 -*-\n",
    "\n",
    "# Caminho dos arquivos\n",
    "FILES_DIRECTORY = \"dados\"\n",
    "\n",
    "import numpy as np #importa a biblioteca usada para trabalhar com vetores de matrizes\n",
    "import pandas as pd #importa a biblioteca usada para trabalhar com dataframes (dados em formato de tabela) e análise de dados\n",
    "import os #importa a biblioteca para tarefas relacionadas ao sistema operacional\n",
    "\n",
    "# Importa o arquivo e guarda em um dataframe do Pandas\n",
    "df_dataset = pd.read_csv( os.path.join(FILES_DIRECTORY, 'dados.csv'), sep=',', index_col=None)\n",
    "\n",
    "print('Dados carregados com sucesso!')"
   ]
  },
  {
   "cell_type": "markdown",
   "metadata": {},
   "source": [
    "Agora, vamos dar uma olhada nas 6 primeiras amostras da base de dados."
   ]
  },
  {
   "cell_type": "code",
   "execution_count": 2,
   "metadata": {},
   "outputs": [
    {
     "data": {
      "text/html": [
       "<div>\n",
       "<style scoped>\n",
       "    .dataframe tbody tr th:only-of-type {\n",
       "        vertical-align: middle;\n",
       "    }\n",
       "\n",
       "    .dataframe tbody tr th {\n",
       "        vertical-align: top;\n",
       "    }\n",
       "\n",
       "    .dataframe thead th {\n",
       "        text-align: right;\n",
       "    }\n",
       "</style>\n",
       "<table border=\"1\" class=\"dataframe\">\n",
       "  <thead>\n",
       "    <tr style=\"text-align: right;\">\n",
       "      <th></th>\n",
       "      <th>primAbate</th>\n",
       "      <th>primTorre</th>\n",
       "      <th>primInibidor</th>\n",
       "      <th>primDragao</th>\n",
       "      <th>primBaron</th>\n",
       "      <th>Classe</th>\n",
       "    </tr>\n",
       "  </thead>\n",
       "  <tbody>\n",
       "    <tr>\n",
       "      <th>0</th>\n",
       "      <td>0</td>\n",
       "      <td>0</td>\n",
       "      <td>1</td>\n",
       "      <td>1</td>\n",
       "      <td>0</td>\n",
       "      <td>0</td>\n",
       "    </tr>\n",
       "    <tr>\n",
       "      <th>1</th>\n",
       "      <td>0</td>\n",
       "      <td>1</td>\n",
       "      <td>1</td>\n",
       "      <td>0</td>\n",
       "      <td>1</td>\n",
       "      <td>1</td>\n",
       "    </tr>\n",
       "    <tr>\n",
       "      <th>2</th>\n",
       "      <td>1</td>\n",
       "      <td>1</td>\n",
       "      <td>1</td>\n",
       "      <td>0</td>\n",
       "      <td>0</td>\n",
       "      <td>1</td>\n",
       "    </tr>\n",
       "    <tr>\n",
       "      <th>3</th>\n",
       "      <td>0</td>\n",
       "      <td>0</td>\n",
       "      <td>0</td>\n",
       "      <td>0</td>\n",
       "      <td>0</td>\n",
       "      <td>0</td>\n",
       "    </tr>\n",
       "    <tr>\n",
       "      <th>4</th>\n",
       "      <td>1</td>\n",
       "      <td>1</td>\n",
       "      <td>1</td>\n",
       "      <td>0</td>\n",
       "      <td>1</td>\n",
       "      <td>1</td>\n",
       "    </tr>\n",
       "    <tr>\n",
       "      <th>5</th>\n",
       "      <td>0</td>\n",
       "      <td>1</td>\n",
       "      <td>1</td>\n",
       "      <td>1</td>\n",
       "      <td>0</td>\n",
       "      <td>1</td>\n",
       "    </tr>\n",
       "  </tbody>\n",
       "</table>\n",
       "</div>"
      ],
      "text/plain": [
       "   primAbate  primTorre  primInibidor  primDragao  primBaron  Classe\n",
       "0          0          0             1           1          0       0\n",
       "1          0          1             1           0          1       1\n",
       "2          1          1             1           0          0       1\n",
       "3          0          0             0           0          0       0\n",
       "4          1          1             1           0          1       1\n",
       "5          0          1             1           1          0       1"
      ]
     },
     "metadata": {},
     "output_type": "display_data"
    }
   ],
   "source": [
    "# vamos usar a função display para imprimir o dataframe, pois deixa mais bonito. \n",
    "# Mas, também poderíamos ter usado a função print: print(df_dataset.head(n=6))\n",
    "display(df_dataset.head(n=6))"
   ]
  },
  {
   "cell_type": "markdown",
   "metadata": {},
   "source": [
    "Vamos guardar os dados dentro de uma matriz e as classes dentro de um vetor."
   ]
  },
  {
   "cell_type": "code",
   "execution_count": 2,
   "metadata": {},
   "outputs": [
    {
     "data": {
      "text/plain": [
       "'X:'"
      ]
     },
     "metadata": {},
     "output_type": "display_data"
    },
    {
     "data": {
      "text/plain": [
       "array([[0, 0, 1, 1, 0],\n",
       "       [0, 1, 1, 0, 1],\n",
       "       [1, 1, 1, 0, 0],\n",
       "       [0, 0, 0, 0, 0],\n",
       "       [1, 1, 1, 0, 1]])"
      ]
     },
     "metadata": {},
     "output_type": "display_data"
    },
    {
     "name": "stdout",
     "output_type": "stream",
     "text": [
      "Y: [0 1 1 0 1]\n"
     ]
    }
   ],
   "source": [
    "# pega os valores das n-1 primeiras colunas e guarda em uma matrix X\n",
    "X = df_dataset.iloc[:, 0:-1].values \n",
    "\n",
    "# pega os valores da última coluna e guarda em um vetor Y\n",
    "Y = df_dataset.iloc[:, -1].values \n",
    "\n",
    "# imprime as 5 primeiras linhas da matriz X\n",
    "display('X:', X[0:5,:])\n",
    "\n",
    "# imprime os 5 primeiros valores de Y\n",
    "print('Y:', Y[0:5])"
   ]
  },
  {
   "cell_type": "markdown",
   "metadata": {},
   "source": [
    "Vamos calcular qual a probabilidade de ocorrência de cada classe."
   ]
  },
  {
   "cell_type": "code",
   "execution_count": 3,
   "metadata": {},
   "outputs": [
    {
     "name": "stdout",
     "output_type": "stream",
     "text": [
      "Probabilidade da classe ser 1 (vitória): 54.00%\n",
      "Probabilidade da classe ser 0 (derrota): 46.00%\n"
     ]
    }
   ],
   "source": [
    "# Probabilidade das Classes\n",
    "pVitoria = sum(Y==1)/len(Y) \n",
    "pDerrota = sum(Y==0)/len(Y)\n",
    "\n",
    "print('Probabilidade da classe ser 1 (vitória): %1.2f%%' %(pVitoria*100))\n",
    "print('Probabilidade da classe ser 0 (derrota): %1.2f%%' %(pDerrota*100))"
   ]
  },
  {
   "cell_type": "markdown",
   "metadata": {},
   "source": [
    "Agora, crie a função que irá calcular as probabilidades de ocorrência de cada atributo em cada classe.\n",
    "\n",
    "**Obs.** Todos os atributos deste problema de classificação possuem apenas dois valores possíveis (1 \\[a ação representada pelo atributo foi tomada pelo time do Rodonildo\\] ou 0 [a ação representada pelo atributo foi tomada pelo time adversário]). Portanto, na função abaixo você deverá calcular apenas a probabilidade do atributo possuir valor 1. Posteriormente, na função de classificação, basta considerar que a probabilidade de um determinado atributo possuir valor 0 é complementar à probabilidade do atributo possui valor 1. "
   ]
  },
  {
   "cell_type": "code",
   "execution_count": 4,
   "metadata": {},
   "outputs": [
    {
     "name": "stdout",
     "output_type": "stream",
     "text": [
      "A probabilidade esperada para P(PrimeiroAbate=1|Classe=1) = 52.96%\n",
      "\n",
      "Essa mesma probabilidade calculada no seu codigo foi = 52.96%\n"
     ]
    }
   ],
   "source": [
    "def calcularProbabilidades(X, Y):\n",
    "    \"\"\"\n",
    "    Computa a probabilidade de ocorrencia de cada \n",
    "    atributo por rotulo possivel. A funcao retorna dois vetores de tamanho n\n",
    "    (qtde de atributos), um para cada classe.\n",
    "    \n",
    "    \"\"\"\n",
    "    \n",
    "    #  inicializa os vetores de probabilidades\n",
    "    pAtrVitoria = np.zeros(X.shape[1])\n",
    "    pAtrDerrota = np.zeros(X.shape[1])\n",
    "\n",
    "    ########################## COMPLETE O CÓDIGO AQUI  ########################\n",
    "    #  Instrucoes: Complete o codigo para encontrar a probabilidade de\n",
    "    #                ocorrencia de um atributo para uma determinada classe.\n",
    "    #                Ex.: para a classe 1 (vitoria), devera ser computada um\n",
    "    #                vetor pAtrVitoria (n x 1) contendo n valores:\n",
    "    #                P(Atributo1=1|Classe=1), ..., P(Atributo5=1|Classe=1), e o\n",
    "    #                mesmo para a classe 0 (derrota):\n",
    "    #                P(Atributo1=1|Classe=0), ..., P(Atributo5=1|Classe=0).\n",
    "    # \n",
    "    \n",
    "    rows = X.shape[0]\n",
    "    columns = X.shape[1]\n",
    "    \n",
    "    pVitoria = sum(Y==1)/len(Y) \n",
    "    pDerrota = sum(Y==0)/len(Y)\n",
    "    \n",
    "    class0 = 0\n",
    "    class1 = 0\n",
    "    \n",
    "    for item in Y:\n",
    "        if item == 0:\n",
    "            class0 += 1\n",
    "        else:\n",
    "            class1 += 1\n",
    "    \n",
    "    for i in range(0, columns):\n",
    "        atribute1_class0 = 0\n",
    "        atribute1_class1 = 0\n",
    "        for j in range(0, rows):\n",
    "            if X[j][i] == 0:\n",
    "                continue\n",
    "            if Y[j] == 0:\n",
    "                atribute1_class0 += 1\n",
    "            else:\n",
    "                atribute1_class1 += 1\n",
    "        pAtrVitoria[i] = atribute1_class1/class1\n",
    "        pAtrDerrota[i] = atribute1_class0/class0\n",
    "            \n",
    "    ##########################################################################\n",
    "\n",
    "    return pAtrVitoria, pAtrDerrota\n",
    "\n",
    "pAtrVitoria, pAtrDerrota = calcularProbabilidades(X,Y)\n",
    "\n",
    "print('A probabilidade esperada para P(PrimeiroAbate=1|Classe=1) = %.2f%%' %52.96)\n",
    "print('\\nEssa mesma probabilidade calculada no seu codigo foi = %.2f%%' %(pAtrVitoria[0]*100))"
   ]
  },
  {
   "cell_type": "markdown",
   "metadata": {},
   "source": [
    "## Parte 2: Classificação da própria base usando o método Naive Bayes\n",
    "\n",
    "Nesta etapa, é realizada a classificação das amostras com base nas probabilidades encontradas no passo anterior. A classificação é realizada verificando se a amostra em questão tem maior probabilidade de pertencer à classe 1 ou à classe 0. Para calcular a probabilidade de uma amostra pertencer a uma determinada classe, é necessário utilizar as probabilidades de ocorrências de atributos previamente computadas. O cálculo pode ser expresso como:\n",
    "\n",
    "$$ P(y_j|\\vec{x}) = \\hat{P}(y_{j}) \\prod_{x_i \\in \\vec{x}} \\hat{P}(x_{i} | y_{j}) $$\n",
    "\n",
    "Portanto, a probabilidade de uma amostra $\\vec{x}$ pertencer a uma classe $j$ é obtida a partir da probabilidade geral da classe $j$ ($\\hat{P}(y_{j})$) multiplicada pelo produtório da probabilidade de ocorrência de cada atributo $x_i$ com relação a classe $j$ ($\\hat{P}(x_{i} | y_{j})$).\n",
    "\n",
    "Se a rotina de classificação estiver correta, espera-se que a acurácia obtida ao classificar a própria base de amostras de jogos que Ronildo participou seja aproximadamente 76,60%. \n",
    "\n",
    "Você deverá completar a função **Classificacao()**.\n",
    "\n",
    "**Dica:**\n",
    "* Neste problema de classificação, o valor 0 presente em cada atributo deve ser levado em consideração, pois ele não significa ausência de valor. Ele significa que a ação representada pelo atributo foi tomada pelo time adversário. "
   ]
  },
  {
   "cell_type": "code",
   "execution_count": 9,
   "metadata": {},
   "outputs": [
    {
     "name": "stdout",
     "output_type": "stream",
     "text": [
      "\n",
      "\n",
      "Acuracia esperada para essa base = 76.60%\n",
      "\n",
      "Acuracia obtida pelo seu classificador foi = 76.60%\n",
      "\n"
     ]
    }
   ],
   "source": [
    "def classificacao(x,pVitoria,pDerrota,pAtrVitoria,pAtrDerrota):\n",
    "    \"\"\"\n",
    "    Classifica se a entrada x pertence a classe 0 ou 1 usando\n",
    "    as probabilidades extraidas da base de treinamento. Essa funcao \n",
    "    estima a predicao de x atraves da maior probabilidade da amostra  \n",
    "    pertencer a classe 1 ou 0. Tambem retorna as probabilidades condicionais\n",
    "    de vitoria e derrota, respectivamente.\n",
    "    \n",
    "    \"\"\"\n",
    "\n",
    "    #  inicializa a classe e as probabilidades condicionais\n",
    "    classe = 0\n",
    "    probVitoria= 0\n",
    "    probDerrota = 0\n",
    "\n",
    "    ########################## COMPLETE O CÓDIGO AQUI  ########################\n",
    "    #  Instrucoes: Complete o codigo para estimar a classificacao da amostra\n",
    "    #                usando as probabilidades extraidas da base de treinamento.\n",
    "    #                Voce precisara encontrar as probabilidades Bayesianas: \n",
    "    #                    . probVitoria -> p(classe=1|x)\n",
    "    #                    . probDerrota -> p(classe=0|x) \n",
    "    #                Depois, você deve selecionar a maior delas. \n",
    "    # \n",
    "    \n",
    "    # P(atr=0|c=0) = 1 - P(atr=1|c=0)\n",
    "    # P(atr=0|c=1) = 1 - P(atr=1|c=1)\n",
    "    \n",
    "    productVictory = 1\n",
    "    productDefeat = 1\n",
    "    size = len(x)\n",
    "    \n",
    "    for i in range(0, size):\n",
    "        if x[i] == 1:\n",
    "            productVictory *= pAtrVitoria[i]\n",
    "            productDefeat *= pAtrDerrota[i]\n",
    "        else:\n",
    "            productVictory *= (1-pAtrVitoria[i]) # P(atr=0|c=1) = 1 - P(atr=1|c=1)\n",
    "            productDefeat *= (1-pAtrDerrota[i]) # P(atr=0|c=0) = 1 - P(atr=1|c=0)\n",
    "    \n",
    "    probVitoria = pVitoria * productVictory\n",
    "    probDerrota = pDerrota * productDefeat\n",
    "    \n",
    "    if probVitoria > probDerrota:\n",
    "        classe = 1\n",
    "    else:\n",
    "        classe = 0\n",
    "    \n",
    "    ########################################################################## \n",
    "\n",
    "    return classe, probVitoria, probDerrota \n",
    "\n",
    "resultados = np.zeros( X.shape[0] )\n",
    "\n",
    "for i in range(X.shape[0]):\n",
    "    resultados[i], probVitoria, probDerrota = classificacao( X[i,:],pVitoria,pDerrota,pAtrVitoria,pAtrDerrota )\n",
    "\n",
    "# calcular acuracia\n",
    "acuracia = np.sum(resultados==Y)/len(Y)\n",
    "\n",
    "print('\\n\\nAcuracia esperada para essa base = %.2f%%\\n' %76.60)\n",
    "print('Acuracia obtida pelo seu classificador foi = %.2f%%\\n' %( acuracia*100 ) )"
   ]
  },
  {
   "cell_type": "markdown",
   "metadata": {},
   "source": [
    "## Parte 3: Predizendo a classe de novos dados\n",
    "\n",
    "Já que toda a etapa de treinamento e classificação está concluída, o último passo é permitir que novas amostras sejam classificadas. "
   ]
  },
  {
   "cell_type": "code",
   "execution_count": 10,
   "metadata": {},
   "outputs": [
    {
     "name": "stdout",
     "output_type": "stream",
     "text": [
      "\n",
      ">>> Predicao = Vitoria!\n",
      "\n",
      ">>>>>> Prob. vitoria = 0.016448!\n",
      "\n",
      ">>>>>> Prob. derrota = 0.015878!\n",
      "\n",
      "\n"
     ]
    }
   ],
   "source": [
    "x1_novo = np.array([0,0,0,1,1])\n",
    "\n",
    "classe, probVitoria, probDerrota = classificacao( x1_novo,pVitoria,pDerrota,pAtrVitoria,pAtrDerrota )\n",
    "\n",
    "if classe ==1:\n",
    "    print('\\n>>> Predicao = Vitoria!')       \n",
    "else:\n",
    "    print('\\n>>> Predicao = Derrota!')\n",
    "\n",
    "print('\\n>>>>>> Prob. vitoria = %0.6f!' %(probVitoria))\n",
    "print('\\n>>>>>> Prob. derrota = %0.6f!\\n\\n'  %(probDerrota))"
   ]
  },
  {
   "cell_type": "markdown",
   "metadata": {},
   "source": [
    "## Parte 4: Classificação de spam\n",
    "\n",
    "Nesta parte do exercício, usaremos o Naive Bayes para classificar SMS spam.\n",
    "\n",
    "Veja alguns exemplos de SMS legítimos:\n",
    " * ```Is that seriously how you spell his name?```\n",
    " * ```What you thinked about me. First time you saw me in class.```\n",
    " * ```Ok lar i double check wif da hair dresser already he said wun cut v short. He said will cut until i look nice.```\n",
    " \n",
    "Agora veja alguns exemplos de SMS spam:\n",
    " * ```WINNER!! As a valued network customer you have been selected to receivea £900 prize reward! To claim call 09061701461. Claim code KL341. Valid 12 hours only.```\n",
    " * ```Thanks for your subscription to Ringtone UK your mobile will be charged £5/month Please confirm by replying YES or NO. If you reply NO you will not be charged.```\n",
    " * ```Congratulations ur awarded 500 of CD vouchers or 125gift guaranteed & Free entry 2 100 wkly draw txt MUSIC to 87066 TnCs http://www.Ldew.com1win150ppmx3age16.```"
   ]
  },
  {
   "cell_type": "markdown",
   "metadata": {},
   "source": [
    "Antes de fazer qualquer tarefa de classificação com textos, é importante fazer um pré-processamento para obter melhor resultado na predição. Na função abaixo, os seguintes pré-processamentos são realizados:\n",
    "\n",
    " - deixar todas as palavras com letras minúsculas\n",
    " - substituir os números pela palavra *number*\n",
    " - substituir todas as URLS pela palavra *enderecoweb*\n",
    " - substiuir todos os emails pela palavra *enderecoemail*\n",
    " - substituir o símbolo de dólar pela palavra *dolar*\n",
    " - substituit todos os caracteres não-alfanuméricos por um espaço em branco\n",
    " \n",
    "Por fim, também é recomendado eliminar todas as palavras muito curtas. Vamos eliminar qualquer palavra de apenas 1 caracter. "
   ]
  },
  {
   "cell_type": "code",
   "execution_count": 11,
   "metadata": {},
   "outputs": [
    {
     "name": "stdout",
     "output_type": "stream",
     "text": [
      "Antes do preprocessamento: \n",
      " Congratulations ur awarded 500 of CD vouchers or 125gift guaranteed & Free entry 2 100 wkly draw txt MUSIC to 87066 TnCs http://www.Ldew.com1win150ppmx3age16.\n",
      "\n",
      "Depois do preprocessamento: \n",
      " congratulations ur awarded number of cd vouchers or numbergift guaranteed free entry number number wkly draw txt music to number tncs enderecoweb\n"
     ]
    },
    {
     "name": "stderr",
     "output_type": "stream",
     "text": [
      "<>:17: SyntaxWarning: invalid escape sequence '\\s'\n",
      "<>:21: SyntaxWarning: invalid escape sequence '\\s'\n",
      "<>:17: SyntaxWarning: invalid escape sequence '\\s'\n",
      "<>:21: SyntaxWarning: invalid escape sequence '\\s'\n",
      "/tmp/ipykernel_4457/877946634.py:17: SyntaxWarning: invalid escape sequence '\\s'\n",
      "  regex = re.compile('(http|https)://[^\\s]*')\n",
      "/tmp/ipykernel_4457/877946634.py:21: SyntaxWarning: invalid escape sequence '\\s'\n",
      "  regex = re.compile('[^\\s]+@[^\\s]+')\n"
     ]
    }
   ],
   "source": [
    "import re #regular expression\n",
    "\n",
    "def preprocessing(text):\n",
    "    \n",
    "    # Lower case\n",
    "    text = text.lower()\n",
    "    \n",
    "    # remove tags HTML\n",
    "    regex = re.compile('<[^<>]+>')\n",
    "    text = re.sub(regex, \" \", text) \n",
    "\n",
    "    # normaliza os numeros \n",
    "    regex = re.compile('[0-9]+')\n",
    "    text = re.sub(regex, \"number\", text)\n",
    "    \n",
    "    # normaliza as URLs\n",
    "    regex = re.compile('(http|https)://[^\\s]*')\n",
    "    text = re.sub(regex, \"enderecoweb\", text)\n",
    "\n",
    "    # normaliza emails\n",
    "    regex = re.compile('[^\\s]+@[^\\s]+')\n",
    "    text = re.sub(regex, \"enderecoemail\", text)\n",
    "    \n",
    "    #normaliza o símbolo de dólar\n",
    "    regex = re.compile('[$]+')\n",
    "    text = re.sub(regex, \"dolar\", text)\n",
    "    \n",
    "    # converte todos os caracteres não-alfanuméricos em espaço\n",
    "    regex = re.compile('[^A-Za-z]') \n",
    "    text = re.sub(regex, \" \", text)\n",
    "    \n",
    "    # substitui varios espaçamentos seguidos em um só\n",
    "    text = ' '.join(text.split())\n",
    "        \n",
    "    return text\n",
    "\n",
    "if __name__ == '__main__':\n",
    "    smsContent = 'Congratulations ur awarded 500 of CD vouchers or 125gift guaranteed & Free entry 2 100 wkly draw txt MUSIC to 87066 TnCs http://www.Ldew.com1win150ppmx3age16.'\n",
    "    print('Antes do preprocessamento: \\n', smsContent)\n",
    "\n",
    "    # chama a função de pré-processsamento para tratar o SMS\n",
    "    smsContent = preprocessing(smsContent)\n",
    "\n",
    "    print('\\nDepois do preprocessamento: \\n', smsContent)"
   ]
  },
  {
   "cell_type": "markdown",
   "metadata": {},
   "source": [
    "Depois de fazer o pré-processamento, é necessário transformar o texto em um vetor de atributos com valores numéricos. Uma das formas de fazer isso é considerar que cada palavra da base de dados de treinamento é um atributo, cujo valor é o número de vezes que ela aparece em uma determinada mensagem.\n",
    "\n",
    "Para facilitar, já existe um vocabulário no arquivo *vocab* que foi previamente extraído. Cada palavra desse vocabulário será considerado um atributo do problema de classificação de spam.\n",
    "\n",
    "O código abaixo carrega o vocabulário."
   ]
  },
  {
   "cell_type": "code",
   "execution_count": 12,
   "metadata": {},
   "outputs": [
    {
     "name": "stdout",
     "output_type": "stream",
     "text": [
      "50 primeiras palavras do vocabulário:\n",
      "\n",
      "['aah', 'aathi', 'abi', 'ability', 'abiola', 'able', 'about', 'abt', 'abta', 'ac', 'academic', 'acc', 'accept', 'access', 'accident', 'accidentally', 'accordingly', 'account', 'ache', 'across', 'acting', 'action', 'activate', 'activities', 'actor', 'actual', 'actually', 'ad', 'add', 'addamsfa', 'added', 'address', 'administrator', 'admirer', 'admit', 'adore', 'adult', 'advance', 'advice', 'advise', 'affairs', 'affection', 'afraid', 'aft', 'after', 'afternoon', 'aftr', 'ag', 'again', 'against']\n"
     ]
    }
   ],
   "source": [
    "# Importa o vocabulario\n",
    "vocabulario = []\n",
    "with open(os.path.join(FILES_DIRECTORY, 'vocab.txt'), 'r') as f:\n",
    "    for line in f:\n",
    "        line = line.replace('\\n','')\n",
    "\n",
    "        vocabulario.append(line)\n",
    "\n",
    "# apresenta as primeiras palavras do vocabulário\n",
    "print('50 primeiras palavras do vocabulário:\\n')\n",
    "print(vocabulario[0:50])"
   ]
  },
  {
   "cell_type": "markdown",
   "metadata": {},
   "source": [
    "Agora, você deve completar a função abaixo para converter a mensagem em um vetor de atributos. O $i-ésimo$ atributo corresponderá à $i-ésima$ palavra do vocabulário e receberá como valor o número de vezes que ela aparecer na mensagem.\n",
    "\n",
    "**Dica:**\n",
    "* Para contar o número de vezes que um valor aparece em uma lista, use: ``nomeLista.count(valor)``"
   ]
  },
  {
   "cell_type": "code",
   "execution_count": 24,
   "metadata": {},
   "outputs": [
    {
     "name": "stdout",
     "output_type": "stream",
     "text": [
      "Vetor de features correspondente ao SMS:\n",
      "[[0 0 0 ... 0 0 0]]\n"
     ]
    }
   ],
   "source": [
    "import numpy as np \n",
    "\n",
    "def text2features(text, vocabulario):\n",
    "    \"\"\"\n",
    "    Converte um texto para um vetor de atributos\n",
    "    \"\"\"\n",
    "    \n",
    "    #inicializa o vetor de atributos\n",
    "    textVec = np.zeros( [1,len(vocabulario)], dtype=int )\n",
    "    \n",
    "    # faz a tokenização\n",
    "    tokens = text.split() # separa as palavras com base nos espaços em branco\n",
    "    \n",
    "    # remove palavras muito curtas\n",
    "    tokens = [w for w in tokens if len(w)>1]\n",
    "\n",
    "    ########################## COMPLETE O CÓDIGO AQUI  ########################\n",
    "    # Complete esta função para retornar um vetor de atributos com valores numéricos\n",
    "    # que represente o texto fornecido como entrada. \n",
    "    # O i-ésimo atributo corresponderá à i-ésima palavra do vocabulário e \n",
    "    # receberá como valor o numero de vezes que a palavra aparece na mensagem.\n",
    "    #\n",
    "    # Por exemplo, suponha que o texto de entrada contenha a palavra 'about'. Como essa palavra\n",
    "    # é a 4 palavra do vocabulario, então a posição 3 do vetor de atributos deverá conter o valor.\n",
    "    \n",
    "    size = len(tokens)\n",
    "    for i in range(0, size):\n",
    "        value = tokens[i]\n",
    "        index = vocabulario.index(value)\n",
    "        if textVec[0][index] > 0:\n",
    "            continue\n",
    "        textVec[0][index] = tokens.count(value)\n",
    "    \n",
    "    ##########################################################################\n",
    "\n",
    "    return textVec\n",
    "\n",
    "# converte o texto para um vetor de features\n",
    "smsVec = text2features(smsContent, vocabulario)\n",
    "\n",
    "print('Vetor de features correspondente ao SMS:')\n",
    "print(smsVec[0:50])"
   ]
  },
  {
   "cell_type": "markdown",
   "metadata": {},
   "source": [
    "### Parte 4.1: Treinando o Naive Bayes\n",
    "\n",
    "Nesta parte do exercício, nós iremos usar uma base de dados de treinamento que já foi pré-processada e convertida em vetores de atributos. O arquivo *spamTrain.txt* contém 4000 exemplos de emails spam e verídicos para treinamento. Por outro lado, o arquivo *spamTest.txt* contém 1000 exemplos de teste.\n",
    "\n",
    "Primeiro, vamos carregar os arquivos."
   ]
  },
  {
   "cell_type": "code",
   "execution_count": null,
   "metadata": {},
   "outputs": [],
   "source": [
    "import numpy as np\n",
    "\n",
    "# Importa o arquivo numpy\n",
    "dataset4_train = np.load(os.path.join(FILES_DIRECTORY, 'spamData.npz'))['train']\n",
    "dataset4_test = np.load(os.path.join(FILES_DIRECTORY, 'spamData.npz'))['test']\n",
    "\n",
    "# pega os valores das n-1 primeiras colunas e guarda em uma matrix X\n",
    "X4_train = dataset4_train[:, 0:-1]\n",
    "X4_test = dataset4_test[:, 0:-1]\n",
    "\n",
    "# pega os valores da última coluna e guarda em um vetor Y\n",
    "Y4_train = dataset4_train[:, -1] \n",
    "Y4_test = dataset4_test[:, -1] \n",
    "\n",
    "# imprimi as 5 primeiras linhas da matriz X\n",
    "display('X_train:', X4_train[0:5,:])\n",
    "display('X_test:', X4_test[0:5,:])\n",
    "\n",
    "# imprimi os 5 primeiros valores de Y\n",
    "print('Y_train:', Y4_train[0:5])\n",
    "print('Y_test:', Y4_test[0:5])"
   ]
  },
  {
   "cell_type": "markdown",
   "metadata": {},
   "source": [
    "Vamos calcular qual a probabilidade de ocorrência de cada classe."
   ]
  },
  {
   "cell_type": "code",
   "execution_count": null,
   "metadata": {},
   "outputs": [],
   "source": [
    "# Probabilidade das Classes\n",
    "pSpam = sum(Y4_train==1)/len(Y4_train) \n",
    "pHam = sum(Y4_train==0)/len(Y4_train)\n",
    "\n",
    "print('Probabilidade da classe ser 1 (spam): %1.2f%%' %(pSpam*100))\n",
    "print('Probabilidade da classe ser 0 (ham): %1.2f%%' %(pHam*100))"
   ]
  },
  {
   "cell_type": "markdown",
   "metadata": {},
   "source": [
    "Agora, crie a função que irá calcular as probabilidades de ocorrência de cada atributo em cada classe. Use a correção de Laplace no cálculo da probabilidade de cada termo: \n",
    "$$\\hat{P}(w_i|c)=\\frac{count(w_i|c)+1}{count(c)+|V|},$$\n",
    "onde $w_i$ é um termo do vocabulário, $count(c)$ é quantidade de termos nas amostras da classe $c$ e $|V|$ é o tamanho do vocabulário (número de atributos)."
   ]
  },
  {
   "cell_type": "code",
   "execution_count": null,
   "metadata": {},
   "outputs": [],
   "source": [
    "def calcularProbabilidades_Laplace(X, Y):\n",
    "    \"\"\"\n",
    "    CALCULARPROBABILIDADES Computa a probabilidade de ocorrencia de cada \n",
    "    atributo por rotulo possivel. A funcao retorna dois vetores de tamanho n\n",
    "    (qtde de atributos), um para cada classe.\n",
    "    \n",
    "    CALCULARPROBABILIDADES(X, Y) calcula a probabilidade de ocorrencia de cada atributo em cada classe. \n",
    "    Cada vetor de saida tem dimensao (n x 1), sendo n a quantidade de atributos por amostra.\n",
    "    \"\"\"\n",
    "    \n",
    "    #  inicializa os vetores de probabilidades\n",
    "    pAtrSpam = np.zeros(X.shape[1])\n",
    "    pAtrHam = np.zeros(X.shape[1])\n",
    "\n",
    "    ########################## COMPLETE O CÓDIGO AQUI  ########################\n",
    "    #  Instrucoes: Complete o codigo para encontrar a probabilidade de\n",
    "    #                ocorrencia de um atributo para uma determinada classe.\n",
    "    #                Ex.: para a classe 1 (vitoria), devera ser computada um\n",
    "    #                vetor pAtrVitoria (n x 1) contendo n valores:\n",
    "    #                P(Atributo1=1|Classe=1), ..., P(Atributo5=1|Classe=1), e o\n",
    "    #                mesmo para a classe 0 (derrota):\n",
    "    #                P(Atributo1=1|Classe=0), ..., P(Atributo5=1|Classe=0).\n",
    "    # \n",
    "    \n",
    "    \n",
    "\n",
    "\n",
    "\n",
    "\n",
    "\n",
    "\n",
    "\n",
    "\n",
    "\n",
    "    \n",
    "    \n",
    "    ##########################################################################\n",
    "\n",
    "    return pAtrSpam, pAtrHam\n",
    "\n",
    "pAtrSpam, pAtrHam = calcularProbabilidades_Laplace(X4_train,Y4_train)\n",
    "\n",
    "print('A probabilidade esperada para o primeiro atributo dada a classe spam = %.8f' %(0.00006613))\n",
    "print('\\nEssa mesma probabilidade calculada no seu codigo foi = %.8f' %(pAtrSpam[0]))"
   ]
  },
  {
   "cell_type": "markdown",
   "metadata": {},
   "source": [
    "Agora, vamos realizar a classificação das amostras com base nas probabilidades encontradas no passo anterior. A classificação é realizada verificando se a amostra em questão tem maior probabilidade de pertencer à classe 1 ou à classe 0. Conforme vimos no exercício anterior, para calcular a probabilidade de uma amostra pertencer a uma determinada classe, é necessário utilizar as probabilidades de ocorrências de atributos previamente computadas:\n",
    "\n",
    "$$ P(y_j|\\vec{x}) = \\hat{P}(y_{j}) \\prod_{x_i \\in \\vec{x}} \\hat{P}(x_{i} | y_{j}) $$\n",
    "\n",
    "Em classificação de textos, a probabilidade de ocorrência de cada termo geralmente é muito próxima de 0. Quando você multiplica essas probabilidades, o resultado final se aproxima ainda mais de 0, o que pode causar estouro de precisão numérica.\n",
    "\n",
    "Um truque para evitar esse problema é substituir a equação acima por:\n",
    "\n",
    "$$ P(y_j|\\vec{x}) = \\log\\left(\\hat{P}(y_{j})\\right) + \\sum_{x_i \\in \\vec{x}} \\log\\left(\\hat{P}(x_{i} | y_{j})\\right) $$\n",
    "\n",
    "Você precisa completar a função abaixo para fazer a classificação de uma determinada mensagem em spam ou ham. Diferentemente da função feita no exercício anterior, o valor 0 não deve ser contabilizado no cálculo da probabilidade, pois ele significa que o termo não ocorreu na mensagem.\n"
   ]
  },
  {
   "cell_type": "code",
   "execution_count": null,
   "metadata": {},
   "outputs": [],
   "source": [
    "def classificacao_texto(x,pSpam,pHam,pAtrSpam,pAtrHam):\n",
    "    \"\"\"\n",
    "    Classifica se a entrada x pertence a classe 0 ou 1 usando\n",
    "    as probabilidades extraidas da base de treinamento. Essa funcao \n",
    "    estima a predicao de x atraves da maior probabilidade da amostra  \n",
    "    pertencer a classe 1 ou 0. Tambem retorna as probabilidades condicionais\n",
    "    de vitoria e derrota, respectivamente.\n",
    "    \n",
    "    \"\"\"\n",
    "\n",
    "    #  inicializa a classe e as probabilidades condicionais\n",
    "    classe = 0\n",
    "    probSpam = 0\n",
    "    probHam = 0\n",
    "\n",
    "    ########################## COMPLETE O CÓDIGO AQUI  ########################\n",
    "    #  Instrucoes: Complete o codigo para estimar a classificacao da amostra\n",
    "    #                usando as probabilidades extraidas da base de treinamento.\n",
    "    #                Voce precisara encontrar as probabilidades Bayesianas: \n",
    "    #                    . probVitoria -> p(classe=1|x)\n",
    "    #                    . probDerrota -> p(classe=0|x) \n",
    "    #                Depois, você deve selecionar a maior delas. \n",
    "    # \n",
    "\n",
    "    \n",
    "\n",
    "\n",
    "\n",
    "\n",
    "\n",
    "\n",
    "\n",
    "\n",
    "\n",
    "    \n",
    "\n",
    "    ########################################################################## \n",
    "\n",
    "    return classe, probSpam, probHam \n",
    "\n",
    "\n",
    "resultados = np.zeros( X4_test.shape[0] )\n",
    "for i in range(X4_test.shape[0]):\n",
    "    resultados[i], probSpam, probHam = classificacao_texto( X4_test[i,:],pSpam,pHam,pAtrSpam,pAtrHam )\n",
    "\n",
    "# calcular acuracia\n",
    "acuracia = np.sum(resultados==Y4_test)/len(Y4_test)\n",
    "\n",
    "print('\\n\\nAcuracia esperada para essa base = %.2f%%\\n' %98.74)\n",
    "print('Acuracia obtida pelo seu classificador foi = %.2f%%\\n' %( acuracia*100 ) )"
   ]
  },
  {
   "cell_type": "markdown",
   "metadata": {},
   "source": [
    "Agora vamos testar o classificador que foi treinado em outro exemplo de SMS."
   ]
  },
  {
   "cell_type": "code",
   "execution_count": null,
   "metadata": {},
   "outputs": [],
   "source": [
    "smsContent = 'Congratulations ur awarded 500 of CD vouchers or 125gift guaranteed & Free entry 2 100 wkly draw txt MUSIC to 87066 TnCs http://www.Ldew.com1win150ppmx3age16.'\n",
    "\n",
    "print(smsContent) \n",
    "\n",
    "# chama a função de pré-processsamento para tratar o email\n",
    "smsContent = preprocessing(smsContent)\n",
    "\n",
    "# converte o texto para um vetor de features\n",
    "smsVec = text2features(smsContent, vocabulario)\n",
    "\n",
    "# classifica o email\n",
    "classe, probSpam, probHam = classificacao_texto( smsVec[0,:],pSpam,pHam,pAtrSpam,pAtrHam )\n",
    "\n",
    "if classe==1:\n",
    "    print('\\n>>> Predicao = Spam!')       \n",
    "else:\n",
    "    print('\\n>>> Predicao = Ham!')\n",
    "\n",
    "print('\\n>>>>>> Prob. spam = %0.18f!' %(probSpam))\n",
    "print('\\n>>>>>> Prob. ham = %0.18f!\\n\\n'  %(probHam))"
   ]
  }
 ],
 "metadata": {
  "kernelspec": {
   "display_name": "Python 3 (ipykernel)",
   "language": "python",
   "name": "python3"
  },
  "language_info": {
   "codemirror_mode": {
    "name": "ipython",
    "version": 3
   },
   "file_extension": ".py",
   "mimetype": "text/x-python",
   "name": "python",
   "nbconvert_exporter": "python",
   "pygments_lexer": "ipython3",
   "version": "3.12.3"
  }
 },
 "nbformat": 4,
 "nbformat_minor": 4
}
